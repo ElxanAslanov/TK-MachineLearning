{
 "cells": [
  {
   "cell_type": "code",
   "execution_count": 2,
   "metadata": {},
   "outputs": [],
   "source": [
    "import numpy as np\n",
    "import matplotlib.pyplot as plt\n",
    "import os\n",
    "import cv2\n",
    "import random\n",
    "from sklearn.model_selection import train_test_split"
   ]
  },
  {
   "cell_type": "code",
   "execution_count": 3,
   "metadata": {},
   "outputs": [
    {
     "name": "stdout",
     "output_type": "stream",
     "text": [
      "In [[phase_1]] found 82 pics\n",
      "In [[phase_2]] found 92 pics\n",
      "In [[phase_3]] found 128 pics\n",
      "In [[phase_4]] found 133 pics\n",
      "In [[phase_5]] found 132 pics\n"
     ]
    }
   ],
   "source": [
    "DATADIR = \"E:\\Egyetem\\Data\\lego/train\"\n",
    "CATEGORIES = ['phase_1','phase_2','phase_3', 'phase_4', 'phase_5']\n",
    "\n",
    "IMG_SIZE = 100\n",
    "training_data = []\n",
    "\n",
    "def create_training_data():\n",
    "    for category in CATEGORIES:\n",
    "        path = os.path.join(DATADIR,category)\n",
    "        class_num = CATEGORIES.index(category) + 1\n",
    "        num_of_pics_each = 0\n",
    "        for img in os.listdir(path):\n",
    "            img_array = cv2.imread(os.path.join(path,img),cv2.IMREAD_COLOR) #fekete fehér képek beolvasása/színes képek beolvasása\n",
    "            new_array = cv2.resize(img_array,(IMG_SIZE,IMG_SIZE)) #kép átméretezése\n",
    "            training_data.append([new_array,class_num])\n",
    "            num_of_pics_each+=1\n",
    "        print(f\"In [[{category}]] found {num_of_pics_each} pics\") #kiírjuk hány kép volt minden kategóriában\n",
    "            \n",
    "create_training_data()"
   ]
  },
  {
   "cell_type": "code",
   "execution_count": 4,
   "metadata": {},
   "outputs": [],
   "source": [
    "random.shuffle(training_data)"
   ]
  },
  {
   "cell_type": "code",
   "execution_count": 5,
   "metadata": {},
   "outputs": [],
   "source": [
    "target = []\n",
    "data = [] \n",
    "\n",
    "for features, label in training_data:\n",
    "    data.append(features)\n",
    "    target.append(label)"
   ]
  },
  {
   "cell_type": "code",
   "execution_count": 6,
   "metadata": {},
   "outputs": [],
   "source": [
    "from sklearn.model_selection import train_test_split\n",
    "X_train, X_test, y_train, y_test = train_test_split(data,target, test_size=0.1)\n",
    "\n",
    "X_train = np.array(X_train).reshape(-1, IMG_SIZE, IMG_SIZE, 3)\n",
    "y_train = np.array(y_train)\n",
    "X_tarin = X_train/255"
   ]
  },
  {
   "cell_type": "code",
   "execution_count": 7,
   "metadata": {},
   "outputs": [],
   "source": [
    "X_test = np.array(X_test).reshape(-1, IMG_SIZE, IMG_SIZE, 3)\n",
    "X_test = X_test/255"
   ]
  },
  {
   "cell_type": "code",
   "execution_count": 10,
   "metadata": {},
   "outputs": [
    {
     "name": "stdout",
     "output_type": "stream",
     "text": [
      "Epoch 1/20\n",
      "16/16 [==============================] - 2s 107ms/step - loss: 85.1656 - accuracy: 0.3373\n",
      "Epoch 2/20\n",
      "16/16 [==============================] - 2s 105ms/step - loss: 0.6648 - accuracy: 0.7961\n",
      "Epoch 3/20\n",
      "16/16 [==============================] - 2s 104ms/step - loss: 0.0568 - accuracy: 0.9882\n",
      "Epoch 4/20\n",
      "16/16 [==============================] - 2s 103ms/step - loss: 0.0058 - accuracy: 1.0000\n",
      "Epoch 5/20\n",
      "16/16 [==============================] - 2s 105ms/step - loss: 0.0011 - accuracy: 1.0000\n",
      "Epoch 6/20\n",
      "16/16 [==============================] - 2s 104ms/step - loss: 3.6941e-04 - accuracy: 1.0000\n",
      "Epoch 7/20\n",
      "16/16 [==============================] - 2s 104ms/step - loss: 2.2556e-04 - accuracy: 1.0000\n",
      "Epoch 8/20\n",
      "16/16 [==============================] - 2s 107ms/step - loss: 1.6787e-04 - accuracy: 1.0000\n",
      "Epoch 9/20\n",
      "16/16 [==============================] - 2s 111ms/step - loss: 1.3043e-04 - accuracy: 1.0000\n",
      "Epoch 10/20\n",
      "16/16 [==============================] - 2s 106ms/step - loss: 1.0305e-04 - accuracy: 1.0000\n",
      "Epoch 11/20\n",
      "16/16 [==============================] - 2s 106ms/step - loss: 8.4211e-05 - accuracy: 1.0000\n",
      "Epoch 12/20\n",
      "16/16 [==============================] - 2s 109ms/step - loss: 7.2490e-05 - accuracy: 1.0000\n",
      "Epoch 13/20\n",
      "16/16 [==============================] - 2s 108ms/step - loss: 5.9661e-05 - accuracy: 1.0000\n",
      "Epoch 14/20\n",
      "16/16 [==============================] - 2s 110ms/step - loss: 5.2445e-05 - accuracy: 1.0000\n",
      "Epoch 15/20\n",
      "16/16 [==============================] - 2s 107ms/step - loss: 4.4213e-05 - accuracy: 1.0000\n",
      "Epoch 16/20\n",
      "16/16 [==============================] - 2s 105ms/step - loss: 3.7209e-05 - accuracy: 1.0000\n",
      "Epoch 17/20\n",
      "16/16 [==============================] - 2s 104ms/step - loss: 3.1690e-05 - accuracy: 1.0000\n",
      "Epoch 18/20\n",
      "16/16 [==============================] - 2s 106ms/step - loss: 2.7400e-05 - accuracy: 1.0000\n",
      "Epoch 19/20\n",
      "16/16 [==============================] - 2s 105ms/step - loss: 2.3531e-05 - accuracy: 1.0000\n",
      "Epoch 20/20\n",
      "16/16 [==============================] - 2s 105ms/step - loss: 2.0694e-05 - accuracy: 1.0000\n"
     ]
    },
    {
     "data": {
      "text/plain": [
       "<tensorflow.python.keras.callbacks.History at 0x1474ef71b80>"
      ]
     },
     "execution_count": 10,
     "metadata": {},
     "output_type": "execute_result"
    }
   ],
   "source": [
    "import tensorflow as tf\n",
    "from tensorflow.keras.optimizers import RMSprop\n",
    "\n",
    "model = tf.keras.models.Sequential()\n",
    "model.add(tf.keras.layers.Conv2D(16,(3,3),activation ='relu', input_shape =(IMG_SIZE,IMG_SIZE,3)))\n",
    "model.add(tf.keras.layers.MaxPool2D(2,2))\n",
    "model.add(tf.keras.layers.Conv2D(32,(3,3),activation ='relu'))\n",
    "model.add(tf.keras.layers.MaxPool2D(2,2))\n",
    "model.add(tf.keras.layers.Conv2D(64,(3,3),activation ='relu'))\n",
    "model.add(tf.keras.layers.MaxPool2D(2,2))  \n",
    "\n",
    "model.add(tf.keras.layers.Flatten())\n",
    "\n",
    "model.add(tf.keras.layers.Dense(512, activation = tf.nn.relu))\n",
    "model.add(tf.keras.layers.Dense(6, activation = tf.nn.softmax))\n",
    "\n",
    "model.compile(optimizer='adam', loss='sparse_categorical_crossentropy', metrics=['accuracy'])\n",
    "model.fit(X_train, y_train, epochs = 20)"
   ]
  },
  {
   "cell_type": "code",
   "execution_count": null,
   "metadata": {},
   "outputs": [],
   "source": []
  }
 ],
 "metadata": {
  "kernelspec": {
   "display_name": "Python 3",
   "language": "python",
   "name": "python3"
  },
  "language_info": {
   "codemirror_mode": {
    "name": "ipython",
    "version": 3
   },
   "file_extension": ".py",
   "mimetype": "text/x-python",
   "name": "python",
   "nbconvert_exporter": "python",
   "pygments_lexer": "ipython3",
   "version": "3.8.3"
  }
 },
 "nbformat": 4,
 "nbformat_minor": 4
}
