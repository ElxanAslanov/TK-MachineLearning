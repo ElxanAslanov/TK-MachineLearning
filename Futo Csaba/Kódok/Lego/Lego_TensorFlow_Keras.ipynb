{
 "cells": [
  {
   "cell_type": "code",
   "execution_count": 2,
   "metadata": {},
   "outputs": [],
   "source": [
    "import numpy as np\n",
    "import matplotlib.pyplot as plt\n",
    "import os\n",
    "import cv2\n",
    "import random\n",
    "from sklearn.model_selection import train_test_split"
   ]
  },
  {
   "cell_type": "code",
   "execution_count": 3,
   "metadata": {},
   "outputs": [
    {
     "name": "stdout",
     "output_type": "stream",
     "text": [
      "In [[phase_1]] found 82 pics\n",
      "In [[phase_2]] found 92 pics\n",
      "In [[phase_3]] found 128 pics\n",
      "In [[phase_4]] found 133 pics\n",
      "In [[phase_5]] found 132 pics\n"
     ]
    }
   ],
   "source": [
    "DATADIR = \"E:\\Egyetem\\Data\\lego/train\"\n",
    "CATEGORIES = ['phase_1','phase_2','phase_3', 'phase_4', 'phase_5']\n",
    "\n",
    "IMG_SIZE = 100\n",
    "training_data = []\n",
    "\n",
    "def create_training_data():\n",
    "    for category in CATEGORIES:\n",
    "        path = os.path.join(DATADIR,category)\n",
    "        class_num = CATEGORIES.index(category) + 1\n",
    "        num_of_pics_each = 0\n",
    "        for img in os.listdir(path):\n",
    "            img_array = cv2.imread(os.path.join(path,img),cv2.IMREAD_COLOR) #fekete fehér képek beolvasása/színes képek beolvasása\n",
    "            new_array = cv2.resize(img_array,(IMG_SIZE,IMG_SIZE)) #kép átméretezése\n",
    "            training_data.append([new_array,class_num])\n",
    "            num_of_pics_each+=1\n",
    "        print(f\"In [[{category}]] found {num_of_pics_each} pics\") #kiírjuk hány kép volt minden kategóriában\n",
    "            \n",
    "create_training_data()"
   ]
  },
  {
   "cell_type": "code",
   "execution_count": 4,
   "metadata": {},
   "outputs": [],
   "source": [
    "random.shuffle(training_data)"
   ]
  },
  {
   "cell_type": "code",
   "execution_count": 5,
   "metadata": {},
   "outputs": [],
   "source": [
    "target = []\n",
    "data = [] \n",
    "\n",
    "for features, label in training_data:\n",
    "    data.append(features)\n",
    "    target.append(label)"
   ]
  },
  {
   "cell_type": "code",
   "execution_count": 6,
   "metadata": {},
   "outputs": [],
   "source": [
    "from sklearn.model_selection import train_test_split\n",
    "X_train, X_test, y_train, y_test = train_test_split(data,target, test_size=0.1)\n",
    "\n",
    "X_train = np.array(X_train).reshape(-1, IMG_SIZE, IMG_SIZE, 3)\n",
    "y_train = np.array(y_train)\n",
    "X_tarin = X_train/255"
   ]
  },
  {
   "cell_type": "code",
   "execution_count": 7,
   "metadata": {},
   "outputs": [],
   "source": [
    "X_test = np.array(X_test).reshape(-1, IMG_SIZE, IMG_SIZE, 3)\n",
    "X_test = X_test/255"
   ]
  },
  {
   "cell_type": "code",
   "execution_count": 11,
   "metadata": {},
   "outputs": [
    {
     "name": "stdout",
     "output_type": "stream",
     "text": [
      "Epoch 1/20\n",
      "16/16 [==============================] - 0s 15ms/step - loss: 1513.7406 - accuracy: 0.2235\n",
      "Epoch 2/20\n",
      "16/16 [==============================] - 0s 15ms/step - loss: 407.5438 - accuracy: 0.3059\n",
      "Epoch 3/20\n",
      "16/16 [==============================] - 0s 15ms/step - loss: 218.1035 - accuracy: 0.3137\n",
      "Epoch 4/20\n",
      "16/16 [==============================] - 0s 15ms/step - loss: 101.2317 - accuracy: 0.5020\n",
      "Epoch 5/20\n",
      "16/16 [==============================] - 0s 15ms/step - loss: 76.0202 - accuracy: 0.5784\n",
      "Epoch 6/20\n",
      "16/16 [==============================] - 0s 15ms/step - loss: 50.7759 - accuracy: 0.6588\n",
      "Epoch 7/20\n",
      "16/16 [==============================] - 0s 15ms/step - loss: 42.7626 - accuracy: 0.6608\n",
      "Epoch 8/20\n",
      "16/16 [==============================] - 0s 14ms/step - loss: 46.4260 - accuracy: 0.6098\n",
      "Epoch 9/20\n",
      "16/16 [==============================] - 0s 14ms/step - loss: 33.3016 - accuracy: 0.7667\n",
      "Epoch 10/20\n",
      "16/16 [==============================] - 0s 15ms/step - loss: 8.7465 - accuracy: 0.8431\n",
      "Epoch 11/20\n",
      "16/16 [==============================] - 0s 14ms/step - loss: 15.9539 - accuracy: 0.7922\n",
      "Epoch 12/20\n",
      "16/16 [==============================] - 0s 14ms/step - loss: 17.0282 - accuracy: 0.8000\n",
      "Epoch 13/20\n",
      "16/16 [==============================] - 0s 14ms/step - loss: 50.1754 - accuracy: 0.6627\n",
      "Epoch 14/20\n",
      "16/16 [==============================] - 0s 15ms/step - loss: 11.4322 - accuracy: 0.8686\n",
      "Epoch 15/20\n",
      "16/16 [==============================] - 0s 14ms/step - loss: 8.1430 - accuracy: 0.8392\n",
      "Epoch 16/20\n",
      "16/16 [==============================] - 0s 14ms/step - loss: 1.3859 - accuracy: 0.9608\n",
      "Epoch 17/20\n",
      "16/16 [==============================] - 0s 14ms/step - loss: 0.8170 - accuracy: 0.9706\n",
      "Epoch 18/20\n",
      "16/16 [==============================] - 0s 15ms/step - loss: 7.2933 - accuracy: 0.8882\n",
      "Epoch 19/20\n",
      "16/16 [==============================] - 0s 14ms/step - loss: 11.7964 - accuracy: 0.8412\n",
      "Epoch 20/20\n",
      "16/16 [==============================] - 0s 14ms/step - loss: 2.4119 - accuracy: 0.9431\n"
     ]
    },
    {
     "data": {
      "text/plain": [
       "<tensorflow.python.keras.callbacks.History at 0x147533e6a60>"
      ]
     },
     "execution_count": 11,
     "metadata": {},
     "output_type": "execute_result"
    }
   ],
   "source": [
    "import tensorflow as tf\n",
    "from tensorflow.keras.optimizers import RMSprop\n",
    "\n",
    "model = tf.keras.models.Sequential()\n",
    "\n",
    "model.add(tf.keras.layers.Flatten()) \n",
    "\n",
    "model.add(tf.keras.layers.Dense(128, activation = tf.nn.relu))\n",
    "model.add(tf.keras.layers.Dense(128, activation = tf.nn.relu))\n",
    "model.add(tf.keras.layers.Dense(128, activation = tf.nn.relu))\n",
    "model.add(tf.keras.layers.Dense(6, activation = tf.nn.softmax))\n",
    "\n",
    "model.compile(optimizer='adam', loss='sparse_categorical_crossentropy', metrics=['accuracy'])\n",
    "model.fit(X_train, y_train, epochs = 20)"
   ]
  },
  {
   "cell_type": "code",
   "execution_count": null,
   "metadata": {},
   "outputs": [],
   "source": []
  }
 ],
 "metadata": {
  "kernelspec": {
   "display_name": "Python 3",
   "language": "python",
   "name": "python3"
  },
  "language_info": {
   "codemirror_mode": {
    "name": "ipython",
    "version": 3
   },
   "file_extension": ".py",
   "mimetype": "text/x-python",
   "name": "python",
   "nbconvert_exporter": "python",
   "pygments_lexer": "ipython3",
   "version": "3.8.3"
  }
 },
 "nbformat": 4,
 "nbformat_minor": 4
}
