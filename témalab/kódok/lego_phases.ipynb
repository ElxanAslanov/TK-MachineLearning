{
 "cells": [
  {
   "cell_type": "code",
   "execution_count": 1,
   "metadata": {},
   "outputs": [],
   "source": [
    "from tensorflow.keras.preprocessing.image import ImageDataGenerator\n",
    "from tensorflow.keras.preprocessing import image\n",
    "from tensorflow.keras.optimizers import RMSprop\n",
    "import matplotlib.pyplot as plt\n",
    "import tensorflow as tf\n",
    "import numpy as np\n",
    "import cv2\n",
    "import os"
   ]
  },
  {
   "cell_type": "code",
   "execution_count": 2,
   "metadata": {},
   "outputs": [],
   "source": [
    "train = ImageDataGenerator(rescale = 1/255)\n",
    "validation = ImageDataGenerator(rescale = 1/255)"
   ]
  },
  {
   "cell_type": "code",
   "execution_count": 3,
   "metadata": {},
   "outputs": [
    {
     "name": "stdout",
     "output_type": "stream",
     "text": [
      "Found 707 images belonging to 6 classes.\n",
      "Found 162 images belonging to 6 classes.\n"
     ]
    }
   ],
   "source": [
    "train_dataset = train.flow_from_directory('F:\\datasets\\Lego_models/train/alap', target_size= (200,200), batch_size = 3, class_mode ='categorical')\n",
    "validation_dataset = train.flow_from_directory('F:\\datasets\\Lego_models/validation/alap', target_size= (200,200), batch_size = 3, class_mode ='categorical')"
   ]
  },
  {
   "cell_type": "code",
   "execution_count": 4,
   "metadata": {},
   "outputs": [],
   "source": [
    "model = tf.keras.models.Sequential([tf.keras.layers.Conv2D(16,(3,3),activation ='relu', input_shape =(200,200,3)),\n",
    "                                    tf.keras.layers.MaxPool2D(2,2),\n",
    "                                    #\n",
    "                                    tf.keras.layers.Conv2D(32,(3,3),activation = 'relu'),\n",
    "                                    tf.keras.layers.MaxPool2D(2,2),\n",
    "                                    #\n",
    "                                    tf.keras.layers.Conv2D(64,(3,3),activation = 'relu'),\n",
    "                                    tf.keras.layers.MaxPool2D(2,2),\n",
    "                                    #\n",
    "                                    tf.keras.layers.Flatten(),\n",
    "                                    #\n",
    "                                    tf.keras.layers.Dense(512, activation = 'relu'),\n",
    "                                    #\n",
    "                                    tf.keras.layers.Dense(6,activation = 'softmax')\n",
    "])"
   ]
  },
  {
   "cell_type": "code",
   "execution_count": 5,
   "metadata": {},
   "outputs": [],
   "source": [
    "model.compile(loss = 'categorical_crossentropy', optimizer = RMSprop(lr=0.001), metrics = ['accuracy'])"
   ]
  },
  {
   "cell_type": "code",
   "execution_count": 6,
   "metadata": {
    "scrolled": true
   },
   "outputs": [
    {
     "name": "stdout",
     "output_type": "stream",
     "text": [
      "Epoch 1/10\n",
      "236/236 [==============================] - 282s 1s/step - loss: 1.0882 - accuracy: 0.6846 - val_loss: 0.3251 - val_accuracy: 0.8765\n",
      "Epoch 2/10\n",
      "236/236 [==============================] - 273s 1s/step - loss: 0.3557 - accuracy: 0.9165 - val_loss: 0.4423 - val_accuracy: 0.8889\n",
      "Epoch 3/10\n",
      "236/236 [==============================] - 273s 1s/step - loss: 0.1656 - accuracy: 0.9491 - val_loss: 0.4181 - val_accuracy: 0.9074\n",
      "Epoch 4/10\n",
      "236/236 [==============================] - 277s 1s/step - loss: 0.1756 - accuracy: 0.9661 - val_loss: 0.5275 - val_accuracy: 0.8889\n",
      "Epoch 5/10\n",
      "236/236 [==============================] - 269s 1s/step - loss: 0.0987 - accuracy: 0.9788 - val_loss: 0.4698 - val_accuracy: 0.9198\n",
      "Epoch 6/10\n",
      "236/236 [==============================] - 266s 1s/step - loss: 0.0563 - accuracy: 0.9859 - val_loss: 0.4645 - val_accuracy: 0.9321\n",
      "Epoch 7/10\n",
      "236/236 [==============================] - 269s 1s/step - loss: 0.0410 - accuracy: 0.9915 - val_loss: 0.8339 - val_accuracy: 0.9198\n",
      "Epoch 8/10\n",
      "236/236 [==============================] - 268s 1s/step - loss: 0.0545 - accuracy: 0.9929 - val_loss: 0.5778 - val_accuracy: 0.9321\n",
      "Epoch 9/10\n",
      "236/236 [==============================] - 266s 1s/step - loss: 0.0434 - accuracy: 0.9929 - val_loss: 1.0267 - val_accuracy: 0.9136\n",
      "Epoch 10/10\n",
      "236/236 [==============================] - 265s 1s/step - loss: 0.0394 - accuracy: 0.9887 - val_loss: 0.8749 - val_accuracy: 0.9321\n"
     ]
    }
   ],
   "source": [
    "model_fit = model.fit(train_dataset,\n",
    "                     epochs=10,\n",
    "                     validation_data= validation_dataset)"
   ]
  },
  {
   "cell_type": "code",
   "execution_count": null,
   "metadata": {},
   "outputs": [],
   "source": []
  }
 ],
 "metadata": {
  "kernelspec": {
   "display_name": "Python 3",
   "language": "python",
   "name": "python3"
  },
  "language_info": {
   "codemirror_mode": {
    "name": "ipython",
    "version": 3
   },
   "file_extension": ".py",
   "mimetype": "text/x-python",
   "name": "python",
   "nbconvert_exporter": "python",
   "pygments_lexer": "ipython3",
   "version": "3.8.5"
  }
 },
 "nbformat": 4,
 "nbformat_minor": 4
}
