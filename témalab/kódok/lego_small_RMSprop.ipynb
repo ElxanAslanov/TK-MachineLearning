{
 "cells": [
  {
   "cell_type": "code",
   "execution_count": 1,
   "metadata": {},
   "outputs": [],
   "source": [
    "from tensorflow.keras.preprocessing.image import ImageDataGenerator\n",
    "from tensorflow.keras.preprocessing import image\n",
    "from tensorflow.keras.optimizers import RMSprop\n",
    "import matplotlib.pyplot as plt\n",
    "import tensorflow as tf\n",
    "import numpy as np\n",
    "import cv2\n",
    "import os"
   ]
  },
  {
   "cell_type": "code",
   "execution_count": 2,
   "metadata": {},
   "outputs": [],
   "source": [
    "train = ImageDataGenerator(rescale = 1/255)\n",
    "validation = ImageDataGenerator(rescale = 1/255)"
   ]
  },
  {
   "cell_type": "code",
   "execution_count": 3,
   "metadata": {},
   "outputs": [
    {
     "name": "stdout",
     "output_type": "stream",
     "text": [
      "Found 154 images belonging to 5 classes.\n",
      "Found 38 images belonging to 5 classes.\n"
     ]
    }
   ],
   "source": [
    "train_dataset = train.flow_from_directory('F:\\datasets\\Lego_models/train/Apro_valtozasok', target_size= (200,200), batch_size = 3, class_mode ='categorical')\n",
    "validation_dataset = train.flow_from_directory('F:\\datasets\\Lego_models/validation/Apro_valtozasok', target_size= (200,200), batch_size = 3, class_mode ='categorical')"
   ]
  },
  {
   "cell_type": "code",
   "execution_count": 4,
   "metadata": {},
   "outputs": [],
   "source": [
    "model = tf.keras.models.Sequential([tf.keras.layers.Conv2D(16,(3,3),activation ='relu', input_shape =(200,200,3)),\n",
    "                                    tf.keras.layers.MaxPool2D(2,2),\n",
    "                                    #\n",
    "                                    tf.keras.layers.Conv2D(32,(3,3),activation = 'relu'),\n",
    "                                    tf.keras.layers.MaxPool2D(2,2),\n",
    "                                    #\n",
    "                                    tf.keras.layers.Conv2D(64,(3,3),activation = 'relu'),\n",
    "                                    tf.keras.layers.MaxPool2D(2,2),\n",
    "                                    #\n",
    "                                    tf.keras.layers.Flatten(),\n",
    "                                    #\n",
    "                                    tf.keras.layers.Dense(512, activation = 'relu'),\n",
    "                                    #\n",
    "                                    tf.keras.layers.Dense(5,activation = 'softmax')\n",
    "])"
   ]
  },
  {
   "cell_type": "code",
   "execution_count": 5,
   "metadata": {},
   "outputs": [],
   "source": [
    "model.compile(loss = 'categorical_crossentropy', optimizer = RMSprop(lr=0.001), metrics = ['accuracy'])"
   ]
  },
  {
   "cell_type": "code",
   "execution_count": 6,
   "metadata": {
    "scrolled": true
   },
   "outputs": [
    {
     "name": "stdout",
     "output_type": "stream",
     "text": [
      "Epoch 1/50\n",
      "6/6 [==============================] - 9s 1s/step - loss: 13.6089 - accuracy: 0.2222 - val_loss: 1.5785 - val_accuracy: 0.3947\n",
      "Epoch 2/50\n",
      "6/6 [==============================] - 8s 1s/step - loss: 1.7203 - accuracy: 0.3889 - val_loss: 2.2369 - val_accuracy: 0.2632\n",
      "Epoch 3/50\n",
      "6/6 [==============================] - 8s 1s/step - loss: 1.6092 - accuracy: 0.4375 - val_loss: 1.5714 - val_accuracy: 0.2368\n",
      "Epoch 4/50\n",
      "6/6 [==============================] - 8s 1s/step - loss: 1.3301 - accuracy: 0.3889 - val_loss: 4.1504 - val_accuracy: 0.1053\n",
      "Epoch 5/50\n",
      "6/6 [==============================] - 8s 1s/step - loss: 1.4822 - accuracy: 0.3333 - val_loss: 1.6138 - val_accuracy: 0.5526\n",
      "Epoch 6/50\n",
      "6/6 [==============================] - 8s 1s/step - loss: 1.2821 - accuracy: 0.6111 - val_loss: 1.1197 - val_accuracy: 0.6053\n",
      "Epoch 7/50\n",
      "6/6 [==============================] - 8s 1s/step - loss: 1.8817 - accuracy: 0.4444 - val_loss: 1.1930 - val_accuracy: 0.5000\n",
      "Epoch 8/50\n",
      "6/6 [==============================] - 8s 1s/step - loss: 0.9862 - accuracy: 0.6111 - val_loss: 0.9696 - val_accuracy: 0.7105\n",
      "Epoch 9/50\n",
      "6/6 [==============================] - 8s 1s/step - loss: 0.7897 - accuracy: 0.8333 - val_loss: 0.8279 - val_accuracy: 0.7632\n",
      "Epoch 10/50\n",
      "6/6 [==============================] - 9s 1s/step - loss: 0.8384 - accuracy: 0.6667 - val_loss: 0.5778 - val_accuracy: 0.7632\n",
      "Epoch 11/50\n",
      "6/6 [==============================] - 9s 1s/step - loss: 0.6282 - accuracy: 0.7778 - val_loss: 0.7275 - val_accuracy: 0.6053\n",
      "Epoch 12/50\n",
      "6/6 [==============================] - 8s 1s/step - loss: 1.5710 - accuracy: 0.6667 - val_loss: 0.5448 - val_accuracy: 0.8947\n",
      "Epoch 13/50\n",
      "6/6 [==============================] - 9s 1s/step - loss: 0.5159 - accuracy: 0.7778 - val_loss: 0.7316 - val_accuracy: 0.7895\n",
      "Epoch 14/50\n",
      "6/6 [==============================] - 8s 1s/step - loss: 0.2828 - accuracy: 0.9444 - val_loss: 0.6360 - val_accuracy: 0.7895\n",
      "Epoch 15/50\n",
      "6/6 [==============================] - 8s 1s/step - loss: 1.5106 - accuracy: 0.5556 - val_loss: 0.6713 - val_accuracy: 0.8421\n",
      "Epoch 16/50\n",
      "6/6 [==============================] - 8s 1s/step - loss: 0.2318 - accuracy: 0.9444 - val_loss: 1.5283 - val_accuracy: 0.7105\n",
      "Epoch 17/50\n",
      "6/6 [==============================] - 8s 1s/step - loss: 0.5550 - accuracy: 0.7222 - val_loss: 0.7031 - val_accuracy: 0.7895\n",
      "Epoch 18/50\n",
      "6/6 [==============================] - 8s 1s/step - loss: 0.6202 - accuracy: 0.7778 - val_loss: 0.6501 - val_accuracy: 0.7368\n",
      "Epoch 19/50\n",
      "6/6 [==============================] - 8s 1s/step - loss: 0.1777 - accuracy: 1.0000 - val_loss: 0.5487 - val_accuracy: 0.8421\n",
      "Epoch 20/50\n",
      "6/6 [==============================] - 8s 1s/step - loss: 0.1685 - accuracy: 0.9444 - val_loss: 0.4530 - val_accuracy: 0.8421\n",
      "Epoch 21/50\n",
      "6/6 [==============================] - 8s 1s/step - loss: 0.1347 - accuracy: 0.9444 - val_loss: 0.4067 - val_accuracy: 0.8684\n",
      "Epoch 22/50\n",
      "6/6 [==============================] - 8s 1s/step - loss: 0.4968 - accuracy: 0.8889 - val_loss: 0.4822 - val_accuracy: 0.8158\n",
      "Epoch 23/50\n",
      "6/6 [==============================] - 8s 1s/step - loss: 0.0403 - accuracy: 1.0000 - val_loss: 0.4214 - val_accuracy: 0.8947\n",
      "Epoch 24/50\n",
      "6/6 [==============================] - 8s 1s/step - loss: 0.0547 - accuracy: 1.0000 - val_loss: 0.5191 - val_accuracy: 0.8947\n",
      "Epoch 25/50\n",
      "6/6 [==============================] - 8s 1s/step - loss: 0.0169 - accuracy: 1.0000 - val_loss: 0.6923 - val_accuracy: 0.8421\n",
      "Epoch 26/50\n",
      "6/6 [==============================] - 9s 2s/step - loss: 1.5481 - accuracy: 0.7778 - val_loss: 1.3346 - val_accuracy: 0.7105\n",
      "Epoch 27/50\n",
      "6/6 [==============================] - 10s 2s/step - loss: 0.2301 - accuracy: 0.8889 - val_loss: 0.3765 - val_accuracy: 0.9211\n",
      "Epoch 28/50\n",
      "6/6 [==============================] - 9s 1s/step - loss: 0.1559 - accuracy: 0.8750 - val_loss: 0.5035 - val_accuracy: 0.8947\n",
      "Epoch 29/50\n",
      "6/6 [==============================] - 8s 1s/step - loss: 0.1387 - accuracy: 0.9444 - val_loss: 0.4570 - val_accuracy: 0.8947\n",
      "Epoch 30/50\n",
      "6/6 [==============================] - 9s 2s/step - loss: 0.2261 - accuracy: 0.9444 - val_loss: 0.7611 - val_accuracy: 0.7632\n",
      "Epoch 31/50\n",
      "6/6 [==============================] - 8s 1s/step - loss: 0.1923 - accuracy: 0.8889 - val_loss: 1.2622 - val_accuracy: 0.6842\n",
      "Epoch 32/50\n",
      "6/6 [==============================] - 8s 1s/step - loss: 0.2142 - accuracy: 0.9375 - val_loss: 0.3715 - val_accuracy: 0.9211\n",
      "Epoch 33/50\n",
      "6/6 [==============================] - 8s 1s/step - loss: 0.3724 - accuracy: 0.9444 - val_loss: 0.2830 - val_accuracy: 0.8947\n",
      "Epoch 34/50\n",
      "6/6 [==============================] - 9s 1s/step - loss: 0.0279 - accuracy: 1.0000 - val_loss: 0.2371 - val_accuracy: 0.8947\n",
      "Epoch 35/50\n",
      "6/6 [==============================] - 9s 1s/step - loss: 0.0413 - accuracy: 1.0000 - val_loss: 0.3369 - val_accuracy: 0.8947\n",
      "Epoch 36/50\n",
      "6/6 [==============================] - 8s 1s/step - loss: 0.0974 - accuracy: 0.9444 - val_loss: 0.2816 - val_accuracy: 0.9211\n",
      "Epoch 37/50\n",
      "6/6 [==============================] - 8s 1s/step - loss: 0.2523 - accuracy: 0.8750 - val_loss: 0.3710 - val_accuracy: 0.8947\n",
      "Epoch 38/50\n",
      "6/6 [==============================] - 8s 1s/step - loss: 0.0197 - accuracy: 1.0000 - val_loss: 0.3557 - val_accuracy: 0.8947\n",
      "Epoch 39/50\n",
      "6/6 [==============================] - 8s 1s/step - loss: 9.2263e-04 - accuracy: 1.0000 - val_loss: 0.3623 - val_accuracy: 0.8947\n",
      "Epoch 40/50\n",
      "6/6 [==============================] - 8s 1s/step - loss: 0.0257 - accuracy: 1.0000 - val_loss: 0.4150 - val_accuracy: 0.8947\n",
      "Epoch 41/50\n",
      "6/6 [==============================] - 8s 1s/step - loss: 0.0465 - accuracy: 0.9444 - val_loss: 7.4097 - val_accuracy: 0.2105\n",
      "Epoch 42/50\n",
      "6/6 [==============================] - 8s 1s/step - loss: 2.2226 - accuracy: 0.6875 - val_loss: 0.9723 - val_accuracy: 0.8421\n",
      "Epoch 43/50\n",
      "6/6 [==============================] - 8s 1s/step - loss: 0.1790 - accuracy: 0.9444 - val_loss: 0.6201 - val_accuracy: 0.8684\n",
      "Epoch 44/50\n",
      "6/6 [==============================] - 8s 1s/step - loss: 0.0020 - accuracy: 1.0000 - val_loss: 0.5942 - val_accuracy: 0.8684\n",
      "Epoch 45/50\n",
      "6/6 [==============================] - 9s 1s/step - loss: 8.2100e-04 - accuracy: 1.0000 - val_loss: 0.5963 - val_accuracy: 0.8684\n",
      "Epoch 46/50\n",
      "6/6 [==============================] - 8s 1s/step - loss: 0.0023 - accuracy: 1.0000 - val_loss: 0.5401 - val_accuracy: 0.8684\n",
      "Epoch 47/50\n",
      "6/6 [==============================] - 8s 1s/step - loss: 0.1417 - accuracy: 0.9444 - val_loss: 0.4763 - val_accuracy: 0.8421\n",
      "Epoch 48/50\n",
      "6/6 [==============================] - 8s 1s/step - loss: 0.0048 - accuracy: 1.0000 - val_loss: 0.4271 - val_accuracy: 0.8947\n",
      "Epoch 49/50\n",
      "6/6 [==============================] - 8s 1s/step - loss: 0.0113 - accuracy: 1.0000 - val_loss: 0.3690 - val_accuracy: 0.8947\n",
      "Epoch 50/50\n",
      "6/6 [==============================] - 8s 1s/step - loss: 6.3232e-04 - accuracy: 1.0000 - val_loss: 0.3652 - val_accuracy: 0.8947\n"
     ]
    }
   ],
   "source": [
    "model_fit = model.fit(train_dataset,\n",
    "                      steps_per_epoch = 6,\n",
    "                     epochs=50,\n",
    "                     validation_data= validation_dataset)"
   ]
  },
  {
   "cell_type": "code",
   "execution_count": null,
   "metadata": {},
   "outputs": [],
   "source": []
  }
 ],
 "metadata": {
  "kernelspec": {
   "display_name": "Python 3",
   "language": "python",
   "name": "python3"
  },
  "language_info": {
   "codemirror_mode": {
    "name": "ipython",
    "version": 3
   },
   "file_extension": ".py",
   "mimetype": "text/x-python",
   "name": "python",
   "nbconvert_exporter": "python",
   "pygments_lexer": "ipython3",
   "version": "3.8.5"
  }
 },
 "nbformat": 4,
 "nbformat_minor": 4
}
