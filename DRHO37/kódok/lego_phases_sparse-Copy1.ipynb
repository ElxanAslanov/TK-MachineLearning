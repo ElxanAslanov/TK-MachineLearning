{
 "cells": [
  {
   "cell_type": "code",
   "execution_count": 1,
   "metadata": {},
   "outputs": [],
   "source": [
    "from tensorflow.keras.preprocessing.image import ImageDataGenerator\n",
    "from tensorflow.keras.preprocessing import image\n",
    "from tensorflow.keras.optimizers import RMSprop\n",
    "import matplotlib.pyplot as plt\n",
    "import tensorflow as tf\n",
    "import numpy as np\n",
    "import cv2\n",
    "import os"
   ]
  },
  {
   "cell_type": "code",
   "execution_count": 2,
   "metadata": {},
   "outputs": [],
   "source": [
    "train = ImageDataGenerator(rescale = 1/255)\n",
    "validation = ImageDataGenerator(rescale = 1/255)"
   ]
  },
  {
   "cell_type": "code",
   "execution_count": 3,
   "metadata": {},
   "outputs": [
    {
     "name": "stdout",
     "output_type": "stream",
     "text": [
      "Found 707 images belonging to 6 classes.\n",
      "Found 162 images belonging to 6 classes.\n"
     ]
    }
   ],
   "source": [
    "train_dataset = train.flow_from_directory('F:\\datasets\\Lego_models/train/alap', target_size= (200,200), batch_size = 5, class_mode ='categorical')\n",
    "validation_dataset = train.flow_from_directory('F:\\datasets\\Lego_models/validation/alap', target_size= (200,200), batch_size = 5, class_mode ='categorical')"
   ]
  },
  {
   "cell_type": "code",
   "execution_count": 4,
   "metadata": {},
   "outputs": [],
   "source": [
    "model = tf.keras.models.Sequential([tf.keras.layers.Conv2D(16,(3,3),activation ='relu', input_shape =(200,200,3)),\n",
    "                                    tf.keras.layers.MaxPool2D(2,2),\n",
    "                                    #\n",
    "                                    tf.keras.layers.Conv2D(32,(3,3),activation = 'relu'),\n",
    "                                    tf.keras.layers.MaxPool2D(2,2),\n",
    "                                    #\n",
    "                                    tf.keras.layers.Conv2D(64,(3,3),activation = 'relu'),\n",
    "                                    tf.keras.layers.MaxPool2D(2,2),\n",
    "                                    #\n",
    "                                    tf.keras.layers.Flatten(),\n",
    "                                    #\n",
    "                                    tf.keras.layers.Dense(512, activation = 'relu'),\n",
    "                                    #\n",
    "                                    tf.keras.layers.Dense(5,activation = 'softmax')\n",
    "])"
   ]
  },
  {
   "cell_type": "code",
   "execution_count": 5,
   "metadata": {},
   "outputs": [],
   "source": [
    "model.compile(loss = 'categorical_crossentropy', optimizer = \"adam\", metrics = ['accuracy'])"
   ]
  },
  {
   "cell_type": "code",
   "execution_count": 6,
   "metadata": {
    "scrolled": false
   },
   "outputs": [
    {
     "name": "stdout",
     "output_type": "stream",
     "text": [
      "Epoch 1/15\n",
      "50/50 [==============================] - 112s 2s/step - loss: 1.6123 - accuracy: 0.3800 - val_loss: 0.9875 - val_accuracy: 0.6111\n",
      "Epoch 2/15\n",
      "50/50 [==============================] - 102s 2s/step - loss: 0.8568 - accuracy: 0.6842 - val_loss: 0.7522 - val_accuracy: 0.6975\n",
      "Epoch 3/15\n",
      "50/50 [==============================] - 108s 2s/step - loss: 0.7166 - accuracy: 0.7773 - val_loss: 0.6264 - val_accuracy: 0.7099\n",
      "Epoch 4/15\n",
      "50/50 [==============================] - 111s 2s/step - loss: 0.5270 - accuracy: 0.8200 - val_loss: 0.3679 - val_accuracy: 0.8827\n",
      "Epoch 5/15\n",
      "50/50 [==============================] - 107s 2s/step - loss: 0.2417 - accuracy: 0.9433 - val_loss: 0.4148 - val_accuracy: 0.8519\n",
      "Epoch 6/15\n",
      "50/50 [==============================] - 109s 2s/step - loss: 0.2555 - accuracy: 0.9312 - val_loss: 0.3671 - val_accuracy: 0.9012\n",
      "Epoch 7/15\n",
      "50/50 [==============================] - 100s 2s/step - loss: 0.1146 - accuracy: 0.9560 - val_loss: 0.5198 - val_accuracy: 0.8272\n",
      "Epoch 8/15\n",
      "50/50 [==============================] - 98s 2s/step - loss: 0.1845 - accuracy: 0.9480 - val_loss: 0.2480 - val_accuracy: 0.9136\n",
      "Epoch 9/15\n",
      "50/50 [==============================] - 107s 2s/step - loss: 0.1336 - accuracy: 0.9800 - val_loss: 0.2672 - val_accuracy: 0.9259\n",
      "Epoch 10/15\n",
      "50/50 [==============================] - 95s 2s/step - loss: 0.0452 - accuracy: 0.9879 - val_loss: 0.5328 - val_accuracy: 0.8951\n",
      "Epoch 11/15\n",
      "50/50 [==============================] - 107s 2s/step - loss: 0.1150 - accuracy: 0.9717 - val_loss: 0.2706 - val_accuracy: 0.9198\n",
      "Epoch 12/15\n",
      "50/50 [==============================] - 99s 2s/step - loss: 0.0554 - accuracy: 0.9757 - val_loss: 0.1510 - val_accuracy: 0.9444\n",
      "Epoch 13/15\n",
      "50/50 [==============================] - 98s 2s/step - loss: 0.0521 - accuracy: 0.9920 - val_loss: 0.1505 - val_accuracy: 0.9444\n",
      "Epoch 14/15\n",
      "50/50 [==============================] - 102s 2s/step - loss: 0.0474 - accuracy: 0.9838 - val_loss: 0.1720 - val_accuracy: 0.9568\n",
      "Epoch 15/15\n",
      "50/50 [==============================] - 98s 2s/step - loss: 0.0118 - accuracy: 1.0000 - val_loss: 0.1410 - val_accuracy: 0.9691\n"
     ]
    }
   ],
   "source": [
    "model_fit = model.fit(train_dataset,\n",
    "                      steps_per_epoch = 50,\n",
    "                     epochs=15,\n",
    "                     validation_data= validation_dataset)"
   ]
  },
  {
   "cell_type": "code",
   "execution_count": null,
   "metadata": {},
   "outputs": [],
   "source": []
  }
 ],
 "metadata": {
  "kernelspec": {
   "display_name": "Python 3",
   "language": "python",
   "name": "python3"
  },
  "language_info": {
   "codemirror_mode": {
    "name": "ipython",
    "version": 3
   },
   "file_extension": ".py",
   "mimetype": "text/x-python",
   "name": "python",
   "nbconvert_exporter": "python",
   "pygments_lexer": "ipython3",
   "version": "3.8.5"
  }
 },
 "nbformat": 4,
 "nbformat_minor": 4
}
