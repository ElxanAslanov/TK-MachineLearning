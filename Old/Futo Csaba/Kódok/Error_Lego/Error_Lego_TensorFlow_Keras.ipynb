{
 "cells": [
  {
   "cell_type": "code",
   "execution_count": 1,
   "metadata": {},
   "outputs": [],
   "source": [
    "import numpy as np\n",
    "import matplotlib.pyplot as plt\n",
    "import os\n",
    "import cv2\n",
    "import random\n",
    "from sklearn.model_selection import train_test_split"
   ]
  },
  {
   "cell_type": "code",
   "execution_count": 2,
   "metadata": {},
   "outputs": [
    {
     "name": "stdout",
     "output_type": "stream",
     "text": [
      "In [[1]] found 598 pics\n",
      "In [[2]] found 579 pics\n",
      "In [[3]] found 585 pics\n"
     ]
    }
   ],
   "source": [
    "DATADIR = \"E:\\Egyetem\\Data\\error\"\n",
    "CATEGORIES = ['1','2','3']\n",
    "\n",
    "IMG_SIZE = 100\n",
    "training_data = []\n",
    "\n",
    "def create_training_data():\n",
    "    for category in CATEGORIES:\n",
    "        path = os.path.join(DATADIR,category)\n",
    "        class_num = CATEGORIES.index(category) + 1\n",
    "        num_of_pics_each = 0\n",
    "        for img in os.listdir(path):\n",
    "            img_array = cv2.imread(os.path.join(path,img),cv2.IMREAD_COLOR) #fekete fehér képek beolvasása/színes képek beolvasása\n",
    "            new_array = cv2.resize(img_array,(IMG_SIZE,IMG_SIZE)) #kép átméretezése\n",
    "            training_data.append([new_array,class_num])\n",
    "            num_of_pics_each+=1\n",
    "        print(f\"In [[{category}]] found {num_of_pics_each} pics\") #kiírjuk hány kép volt minden kategóriában\n",
    "            \n",
    "create_training_data()"
   ]
  },
  {
   "cell_type": "code",
   "execution_count": 3,
   "metadata": {},
   "outputs": [],
   "source": [
    "random.shuffle(training_data)"
   ]
  },
  {
   "cell_type": "code",
   "execution_count": 10,
   "metadata": {},
   "outputs": [],
   "source": [
    "target = []\n",
    "data = [] \n",
    "\n",
    "for features, label in training_data:\n",
    "    data.append(features)\n",
    "    target.append(label)"
   ]
  },
  {
   "cell_type": "code",
   "execution_count": 16,
   "metadata": {},
   "outputs": [],
   "source": [
    "from sklearn.model_selection import train_test_split\n",
    "X_train, X_test, y_train, y_test = train_test_split(data,target, test_size=0.1)\n",
    "\n",
    "X_train = np.array(X_train).reshape(-1, IMG_SIZE, IMG_SIZE, 3)\n",
    "y_train = np.array(y_train)\n",
    "X_tarin = X_train/255"
   ]
  },
  {
   "cell_type": "code",
   "execution_count": 27,
   "metadata": {},
   "outputs": [],
   "source": [
    "X_test = np.array(X_test).reshape(-1, IMG_SIZE, IMG_SIZE, 3)\n",
    "X_test = X_test/255"
   ]
  },
  {
   "cell_type": "code",
   "execution_count": 42,
   "metadata": {},
   "outputs": [
    {
     "name": "stdout",
     "output_type": "stream",
     "text": [
      "Epoch 1/20\n",
      "50/50 [==============================] - 6s 123ms/step - loss: 26.0865 - accuracy: 0.4183\n",
      "Epoch 2/20\n",
      "50/50 [==============================] - 6s 122ms/step - loss: 0.7575 - accuracy: 0.6511\n",
      "Epoch 3/20\n",
      "50/50 [==============================] - 6s 119ms/step - loss: 0.5364 - accuracy: 0.7584\n",
      "Epoch 4/20\n",
      "50/50 [==============================] - 6s 120ms/step - loss: 0.4386 - accuracy: 0.8189\n",
      "Epoch 5/20\n",
      "50/50 [==============================] - 6s 119ms/step - loss: 0.3314 - accuracy: 0.8763\n",
      "Epoch 6/20\n",
      "50/50 [==============================] - 6s 119ms/step - loss: 0.2230 - accuracy: 0.9167\n",
      "Epoch 7/20\n",
      "50/50 [==============================] - 6s 120ms/step - loss: 0.1956 - accuracy: 0.9268\n",
      "Epoch 8/20\n",
      "50/50 [==============================] - 6s 120ms/step - loss: 0.1705 - accuracy: 0.9388\n",
      "Epoch 9/20\n",
      "50/50 [==============================] - 6s 121ms/step - loss: 0.1056 - accuracy: 0.9628\n",
      "Epoch 10/20\n",
      "50/50 [==============================] - 6s 119ms/step - loss: 0.1057 - accuracy: 0.9609\n",
      "Epoch 11/20\n",
      "50/50 [==============================] - 6s 119ms/step - loss: 0.0725 - accuracy: 0.9741\n",
      "Epoch 12/20\n",
      "50/50 [==============================] - 6s 122ms/step - loss: 0.0541 - accuracy: 0.9842\n",
      "Epoch 13/20\n",
      "50/50 [==============================] - 6s 120ms/step - loss: 0.0224 - accuracy: 0.9937\n",
      "Epoch 14/20\n",
      "50/50 [==============================] - 6s 119ms/step - loss: 0.0148 - accuracy: 0.9968\n",
      "Epoch 15/20\n",
      "50/50 [==============================] - 6s 120ms/step - loss: 0.0029 - accuracy: 1.0000\n",
      "Epoch 16/20\n",
      "50/50 [==============================] - 6s 121ms/step - loss: 0.0013 - accuracy: 1.0000\n",
      "Epoch 17/20\n",
      "50/50 [==============================] - 6s 120ms/step - loss: 8.9517e-04 - accuracy: 1.0000\n",
      "Epoch 18/20\n",
      "50/50 [==============================] - 6s 119ms/step - loss: 5.0088e-04 - accuracy: 1.0000\n",
      "Epoch 19/20\n",
      "50/50 [==============================] - 6s 120ms/step - loss: 3.7098e-04 - accuracy: 1.0000\n",
      "Epoch 20/20\n",
      "50/50 [==============================] - 6s 120ms/step - loss: 3.1367e-04 - accuracy: 1.0000\n"
     ]
    },
    {
     "data": {
      "text/plain": [
       "<tensorflow.python.keras.callbacks.History at 0x2458a90de50>"
      ]
     },
     "execution_count": 42,
     "metadata": {},
     "output_type": "execute_result"
    }
   ],
   "source": [
    "import tensorflow as tf\n",
    "from tensorflow.keras.optimizers import RMSprop\n",
    "\n",
    "model = tf.keras.models.Sequential()\n",
    "model.add(tf.keras.layers.Conv2D(16,(3,3),activation ='relu', input_shape =(IMG_SIZE,IMG_SIZE,3)))\n",
    "model.add(tf.keras.layers.MaxPool2D(2,2))\n",
    "model.add(tf.keras.layers.Conv2D(32,(3,3),activation ='relu'))\n",
    "model.add(tf.keras.layers.MaxPool2D(2,2))\n",
    "model.add(tf.keras.layers.Conv2D(64,(3,3),activation ='relu'))\n",
    "model.add(tf.keras.layers.MaxPool2D(2,2))  \n",
    "\n",
    "model.add(tf.keras.layers.Flatten())\n",
    "\n",
    "model.add(tf.keras.layers.Dense(512, activation = tf.nn.relu))\n",
    "model.add(tf.keras.layers.Dense(4, activation = tf.nn.softmax))\n",
    "\n",
    "model.compile(optimizer='adam', loss='sparse_categorical_crossentropy', metrics=['accuracy'])\n",
    "model.fit(X_train, y_train, epochs = 20)"
   ]
  }
 ],
 "metadata": {
  "kernelspec": {
   "display_name": "Python 3",
   "language": "python",
   "name": "python3"
  },
  "language_info": {
   "codemirror_mode": {
    "name": "ipython",
    "version": 3
   },
   "file_extension": ".py",
   "mimetype": "text/x-python",
   "name": "python",
   "nbconvert_exporter": "python",
   "pygments_lexer": "ipython3",
   "version": "3.8.3"
  }
 },
 "nbformat": 4,
 "nbformat_minor": 4
}
