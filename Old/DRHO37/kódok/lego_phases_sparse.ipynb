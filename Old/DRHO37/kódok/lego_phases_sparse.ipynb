{
 "cells": [
  {
   "cell_type": "code",
   "execution_count": 1,
   "metadata": {},
   "outputs": [],
   "source": [
    "from tensorflow.keras.preprocessing.image import ImageDataGenerator\n",
    "from tensorflow.keras.preprocessing import image\n",
    "from tensorflow.keras.optimizers import RMSprop\n",
    "import matplotlib.pyplot as plt\n",
    "import tensorflow as tf\n",
    "import numpy as np\n",
    "import cv2\n",
    "import os"
   ]
  },
  {
   "cell_type": "code",
   "execution_count": 2,
   "metadata": {},
   "outputs": [],
   "source": [
    "train = ImageDataGenerator(rescale = 1/255)\n",
    "validation = ImageDataGenerator(rescale = 1/255)"
   ]
  },
  {
   "cell_type": "code",
   "execution_count": 3,
   "metadata": {},
   "outputs": [
    {
     "name": "stdout",
     "output_type": "stream",
     "text": [
      "Found 707 images belonging to 6 classes.\n",
      "Found 162 images belonging to 6 classes.\n"
     ]
    }
   ],
   "source": [
    "train_dataset = train.flow_from_directory('F:\\datasets\\Lego_models/train/alap', target_size= (200,200), batch_size = 5, class_mode ='categorical')\n",
    "validation_dataset = train.flow_from_directory('F:\\datasets\\Lego_models/validation/alap', target_size= (200,200), batch_size = 5, class_mode ='categorical')"
   ]
  },
  {
   "cell_type": "code",
   "execution_count": 4,
   "metadata": {},
   "outputs": [],
   "source": [
    "model = tf.keras.models.Sequential([tf.keras.layers.Conv2D(16,(3,3),activation ='relu', input_shape =(200,200,3)),\n",
    "                                    tf.keras.layers.MaxPool2D(2,2),\n",
    "                                    #\n",
    "                                    tf.keras.layers.Conv2D(32,(3,3),activation = 'relu'),\n",
    "                                    tf.keras.layers.MaxPool2D(2,2),\n",
    "                                    #\n",
    "                                    tf.keras.layers.Conv2D(64,(3,3),activation = 'relu'),\n",
    "                                    tf.keras.layers.MaxPool2D(2,2),\n",
    "                                    #\n",
    "                                    tf.keras.layers.Flatten(),\n",
    "                                    #\n",
    "                                    tf.keras.layers.Dense(512, activation = 'relu'),\n",
    "                                    #\n",
    "                                    tf.keras.layers.Dense(6,activation = 'softmax')\n",
    "])"
   ]
  },
  {
   "cell_type": "code",
   "execution_count": 5,
   "metadata": {},
   "outputs": [],
   "source": [
    "model.compile(loss = 'categorical_crossentropy', optimizer = RMSprop(lr=0.001), metrics = ['accuracy'])"
   ]
  },
  {
   "cell_type": "code",
   "execution_count": 6,
   "metadata": {
    "scrolled": true
   },
   "outputs": [
    {
     "name": "stdout",
     "output_type": "stream",
     "text": [
      "Epoch 1/15\n",
      "50/50 [==============================] - 115s 2s/step - loss: 2.1381 - accuracy: 0.5120 - val_loss: 0.8725 - val_accuracy: 0.5864\n",
      "Epoch 2/15\n",
      "50/50 [==============================] - 103s 2s/step - loss: 0.7677 - accuracy: 0.6880 - val_loss: 0.6016 - val_accuracy: 0.7778\n",
      "Epoch 3/15\n",
      "50/50 [==============================] - 108s 2s/step - loss: 0.5495 - accuracy: 0.8240 - val_loss: 0.4743 - val_accuracy: 0.8210\n",
      "Epoch 4/15\n",
      "50/50 [==============================] - 101s 2s/step - loss: 0.3399 - accuracy: 0.8988 - val_loss: 0.3683 - val_accuracy: 0.8457\n",
      "Epoch 5/15\n",
      "50/50 [==============================] - 105s 2s/step - loss: 0.2613 - accuracy: 0.9200 - val_loss: 0.3408 - val_accuracy: 0.9074\n",
      "Epoch 6/15\n",
      "50/50 [==============================] - 108s 2s/step - loss: 0.3726 - accuracy: 0.9240 - val_loss: 0.2842 - val_accuracy: 0.9136\n",
      "Epoch 7/15\n",
      "50/50 [==============================] - 99s 2s/step - loss: 0.1749 - accuracy: 0.9400 - val_loss: 0.2703 - val_accuracy: 0.9136\n",
      "Epoch 8/15\n",
      "50/50 [==============================] - 105s 2s/step - loss: 0.2118 - accuracy: 0.9480 - val_loss: 0.2501 - val_accuracy: 0.9321\n",
      "Epoch 9/15\n",
      "50/50 [==============================] - 103s 2s/step - loss: 0.1171 - accuracy: 0.9595 - val_loss: 0.3365 - val_accuracy: 0.9136\n",
      "Epoch 10/15\n",
      "50/50 [==============================] - 102s 2s/step - loss: 0.1139 - accuracy: 0.9800 - val_loss: 0.2895 - val_accuracy: 0.9444\n",
      "Epoch 11/15\n",
      "50/50 [==============================] - 115s 2s/step - loss: 0.1074 - accuracy: 0.9800 - val_loss: 0.6061 - val_accuracy: 0.8457\n",
      "Epoch 12/15\n",
      "50/50 [==============================] - 112s 2s/step - loss: 0.1226 - accuracy: 0.9680 - val_loss: 0.2125 - val_accuracy: 0.9506\n",
      "Epoch 13/15\n",
      "50/50 [==============================] - 112s 2s/step - loss: 0.0180 - accuracy: 0.9919 - val_loss: 0.3363 - val_accuracy: 0.9136\n",
      "Epoch 14/15\n",
      "50/50 [==============================] - 116s 2s/step - loss: 0.2039 - accuracy: 0.9800 - val_loss: 0.2449 - val_accuracy: 0.9568\n",
      "Epoch 15/15\n",
      "50/50 [==============================] - 103s 2s/step - loss: 0.0987 - accuracy: 0.9919 - val_loss: 0.2266 - val_accuracy: 0.9321\n"
     ]
    }
   ],
   "source": [
    "model_fit = model.fit(train_dataset,\n",
    "                      steps_per_epoch = 50,\n",
    "                     epochs=15,\n",
    "                     validation_data= validation_dataset)"
   ]
  },
  {
   "cell_type": "code",
   "execution_count": null,
   "metadata": {},
   "outputs": [],
   "source": []
  }
 ],
 "metadata": {
  "kernelspec": {
   "display_name": "Python 3",
   "language": "python",
   "name": "python3"
  },
  "language_info": {
   "codemirror_mode": {
    "name": "ipython",
    "version": 3
   },
   "file_extension": ".py",
   "mimetype": "text/x-python",
   "name": "python",
   "nbconvert_exporter": "python",
   "pygments_lexer": "ipython3",
   "version": "3.8.5"
  }
 },
 "nbformat": 4,
 "nbformat_minor": 4
}
