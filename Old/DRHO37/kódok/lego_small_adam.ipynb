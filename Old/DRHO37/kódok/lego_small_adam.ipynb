{
 "cells": [
  {
   "cell_type": "code",
   "execution_count": 1,
   "metadata": {},
   "outputs": [],
   "source": [
    "from tensorflow.keras.preprocessing.image import ImageDataGenerator\n",
    "from tensorflow.keras.preprocessing import image\n",
    "from tensorflow.keras.optimizers import RMSprop\n",
    "import matplotlib.pyplot as plt\n",
    "import tensorflow as tf\n",
    "import numpy as np\n",
    "import cv2\n",
    "import os"
   ]
  },
  {
   "cell_type": "code",
   "execution_count": 2,
   "metadata": {},
   "outputs": [],
   "source": [
    "train = ImageDataGenerator(rescale = 1/255)\n",
    "validation = ImageDataGenerator(rescale = 1/255)"
   ]
  },
  {
   "cell_type": "code",
   "execution_count": 3,
   "metadata": {},
   "outputs": [
    {
     "name": "stdout",
     "output_type": "stream",
     "text": [
      "Found 154 images belonging to 5 classes.\n",
      "Found 38 images belonging to 5 classes.\n"
     ]
    }
   ],
   "source": [
    "train_dataset = train.flow_from_directory('F:\\datasets\\Lego_models/train/Apro_valtozasok', target_size= (200,200), batch_size = 3, class_mode ='categorical')\n",
    "validation_dataset = train.flow_from_directory('F:\\datasets\\Lego_models/validation/Apro_valtozasok', target_size= (200,200), batch_size = 3, class_mode ='categorical')"
   ]
  },
  {
   "cell_type": "code",
   "execution_count": 4,
   "metadata": {},
   "outputs": [],
   "source": [
    "model = tf.keras.models.Sequential([tf.keras.layers.Conv2D(16,(3,3),activation ='relu', input_shape =(200,200,3)),\n",
    "                                    tf.keras.layers.MaxPool2D(2,2),\n",
    "                                    #\n",
    "                                    tf.keras.layers.Conv2D(32,(3,3),activation = 'relu'),\n",
    "                                    tf.keras.layers.MaxPool2D(2,2),\n",
    "                                    #\n",
    "                                    tf.keras.layers.Conv2D(64,(3,3),activation = 'relu'),\n",
    "                                    tf.keras.layers.MaxPool2D(2,2),\n",
    "                                    #\n",
    "                                    tf.keras.layers.Flatten(),\n",
    "                                    #\n",
    "                                    tf.keras.layers.Dense(512, activation = 'relu'),\n",
    "                                    #\n",
    "                                    tf.keras.layers.Dense(5,activation = 'softmax')\n",
    "])"
   ]
  },
  {
   "cell_type": "code",
   "execution_count": 5,
   "metadata": {},
   "outputs": [],
   "source": [
    "model.compile(loss = 'categorical_crossentropy', optimizer = \"adam\", metrics = ['accuracy'])"
   ]
  },
  {
   "cell_type": "code",
   "execution_count": 6,
   "metadata": {
    "scrolled": false
   },
   "outputs": [
    {
     "name": "stdout",
     "output_type": "stream",
     "text": [
      "Epoch 1/50\n",
      "6/6 [==============================] - 9s 1s/step - loss: 3.7860 - accuracy: 0.2778 - val_loss: 1.5717 - val_accuracy: 0.2105\n",
      "Epoch 2/50\n",
      "6/6 [==============================] - 8s 1s/step - loss: 1.6287 - accuracy: 0.2778 - val_loss: 1.5789 - val_accuracy: 0.3947\n",
      "Epoch 3/50\n",
      "6/6 [==============================] - 8s 1s/step - loss: 1.5440 - accuracy: 0.5000 - val_loss: 1.5888 - val_accuracy: 0.1053\n",
      "Epoch 4/50\n",
      "6/6 [==============================] - 8s 1s/step - loss: 1.4605 - accuracy: 0.5000 - val_loss: 1.5385 - val_accuracy: 0.3421\n",
      "Epoch 5/50\n",
      "6/6 [==============================] - 8s 1s/step - loss: 1.5832 - accuracy: 0.3125 - val_loss: 1.4365 - val_accuracy: 0.2368\n",
      "Epoch 6/50\n",
      "6/6 [==============================] - 8s 1s/step - loss: 1.4034 - accuracy: 0.3333 - val_loss: 1.3935 - val_accuracy: 0.3947\n",
      "Epoch 7/50\n",
      "6/6 [==============================] - 8s 1s/step - loss: 1.2787 - accuracy: 0.3889 - val_loss: 1.1453 - val_accuracy: 0.5263\n",
      "Epoch 8/50\n",
      "6/6 [==============================] - 8s 1s/step - loss: 0.8806 - accuracy: 0.6875 - val_loss: 0.8167 - val_accuracy: 0.6842\n",
      "Epoch 9/50\n",
      "6/6 [==============================] - 8s 1s/step - loss: 0.3168 - accuracy: 1.0000 - val_loss: 0.5763 - val_accuracy: 0.8421\n",
      "Epoch 10/50\n",
      "6/6 [==============================] - 8s 1s/step - loss: 0.3803 - accuracy: 0.7778 - val_loss: 1.1318 - val_accuracy: 0.6316\n",
      "Epoch 11/50\n",
      "6/6 [==============================] - 8s 1s/step - loss: 0.6241 - accuracy: 0.7778 - val_loss: 0.8196 - val_accuracy: 0.7368\n",
      "Epoch 12/50\n",
      "6/6 [==============================] - 8s 1s/step - loss: 0.6374 - accuracy: 0.8333 - val_loss: 0.4681 - val_accuracy: 0.8947\n",
      "Epoch 13/50\n",
      "6/6 [==============================] - 8s 1s/step - loss: 0.3205 - accuracy: 0.8333 - val_loss: 0.4504 - val_accuracy: 0.8684\n",
      "Epoch 14/50\n",
      "6/6 [==============================] - 8s 1s/step - loss: 0.4830 - accuracy: 0.8333 - val_loss: 0.9601 - val_accuracy: 0.6579\n",
      "Epoch 15/50\n",
      "6/6 [==============================] - 8s 1s/step - loss: 0.6022 - accuracy: 0.7222 - val_loss: 0.7022 - val_accuracy: 0.7895\n",
      "Epoch 16/50\n",
      "6/6 [==============================] - 8s 1s/step - loss: 0.1924 - accuracy: 0.9444 - val_loss: 0.7557 - val_accuracy: 0.6842\n",
      "Epoch 17/50\n",
      "6/6 [==============================] - 8s 1s/step - loss: 0.5778 - accuracy: 0.8333 - val_loss: 0.4951 - val_accuracy: 0.8947\n",
      "Epoch 18/50\n",
      "6/6 [==============================] - 8s 1s/step - loss: 0.2867 - accuracy: 0.8889 - val_loss: 0.8832 - val_accuracy: 0.5789\n",
      "Epoch 19/50\n",
      "6/6 [==============================] - 8s 1s/step - loss: 0.1145 - accuracy: 0.9444 - val_loss: 0.5686 - val_accuracy: 0.7368\n",
      "Epoch 20/50\n",
      "6/6 [==============================] - 8s 1s/step - loss: 0.3184 - accuracy: 0.8333 - val_loss: 0.4665 - val_accuracy: 0.7632\n",
      "Epoch 21/50\n",
      "6/6 [==============================] - 8s 1s/step - loss: 0.0586 - accuracy: 1.0000 - val_loss: 0.4431 - val_accuracy: 0.8947\n",
      "Epoch 22/50\n",
      "6/6 [==============================] - 8s 1s/step - loss: 0.1497 - accuracy: 0.9444 - val_loss: 0.4329 - val_accuracy: 0.8684\n",
      "Epoch 23/50\n",
      "6/6 [==============================] - 8s 1s/step - loss: 0.0700 - accuracy: 1.0000 - val_loss: 0.3721 - val_accuracy: 0.8158\n",
      "Epoch 24/50\n",
      "6/6 [==============================] - 8s 1s/step - loss: 0.0855 - accuracy: 1.0000 - val_loss: 0.3166 - val_accuracy: 0.8684\n",
      "Epoch 25/50\n",
      "6/6 [==============================] - 8s 1s/step - loss: 0.0538 - accuracy: 1.0000 - val_loss: 0.3799 - val_accuracy: 0.9211\n",
      "Epoch 26/50\n",
      "6/6 [==============================] - 8s 1s/step - loss: 0.0133 - accuracy: 1.0000 - val_loss: 0.5086 - val_accuracy: 0.9211\n",
      "Epoch 27/50\n",
      "6/6 [==============================] - 8s 1s/step - loss: 0.0232 - accuracy: 1.0000 - val_loss: 0.4586 - val_accuracy: 0.9211\n",
      "Epoch 28/50\n",
      "6/6 [==============================] - 8s 1s/step - loss: 0.0290 - accuracy: 1.0000 - val_loss: 0.3098 - val_accuracy: 0.9211\n",
      "Epoch 29/50\n",
      "6/6 [==============================] - 8s 1s/step - loss: 0.0422 - accuracy: 1.0000 - val_loss: 0.2612 - val_accuracy: 0.8947\n",
      "Epoch 30/50\n",
      "6/6 [==============================] - 8s 1s/step - loss: 0.1449 - accuracy: 0.9444 - val_loss: 2.6834 - val_accuracy: 0.3684\n",
      "Epoch 31/50\n",
      "6/6 [==============================] - 8s 1s/step - loss: 0.1393 - accuracy: 0.8889 - val_loss: 0.2287 - val_accuracy: 0.9211\n",
      "Epoch 32/50\n",
      "6/6 [==============================] - 8s 1s/step - loss: 0.0125 - accuracy: 1.0000 - val_loss: 0.5340 - val_accuracy: 0.8947\n",
      "Epoch 33/50\n",
      "6/6 [==============================] - 8s 1s/step - loss: 0.1758 - accuracy: 0.9375 - val_loss: 0.3808 - val_accuracy: 0.8947\n",
      "Epoch 34/50\n",
      "6/6 [==============================] - 8s 1s/step - loss: 0.0280 - accuracy: 1.0000 - val_loss: 0.3969 - val_accuracy: 0.8684\n",
      "Epoch 35/50\n",
      "6/6 [==============================] - 8s 1s/step - loss: 0.1198 - accuracy: 0.9375 - val_loss: 0.5008 - val_accuracy: 0.8947\n",
      "Epoch 36/50\n",
      "6/6 [==============================] - 8s 1s/step - loss: 0.1993 - accuracy: 0.8889 - val_loss: 0.2036 - val_accuracy: 0.9211\n",
      "Epoch 37/50\n",
      "6/6 [==============================] - 8s 1s/step - loss: 0.0201 - accuracy: 1.0000 - val_loss: 0.1725 - val_accuracy: 0.9474\n",
      "Epoch 38/50\n",
      "6/6 [==============================] - 8s 1s/step - loss: 0.0612 - accuracy: 1.0000 - val_loss: 0.4536 - val_accuracy: 0.8684\n",
      "Epoch 39/50\n",
      "6/6 [==============================] - 8s 1s/step - loss: 0.0330 - accuracy: 1.0000 - val_loss: 0.2615 - val_accuracy: 0.8947\n",
      "Epoch 40/50\n",
      "6/6 [==============================] - 8s 1s/step - loss: 0.0190 - accuracy: 1.0000 - val_loss: 0.1865 - val_accuracy: 0.9474\n",
      "Epoch 41/50\n",
      "6/6 [==============================] - 8s 1s/step - loss: 0.0209 - accuracy: 1.0000 - val_loss: 0.2369 - val_accuracy: 0.9211\n",
      "Epoch 42/50\n",
      "6/6 [==============================] - 8s 1s/step - loss: 6.8878e-04 - accuracy: 1.0000 - val_loss: 0.2928 - val_accuracy: 0.9211\n",
      "Epoch 43/50\n",
      "6/6 [==============================] - 8s 1s/step - loss: 0.0076 - accuracy: 1.0000 - val_loss: 0.3046 - val_accuracy: 0.9211\n",
      "Epoch 44/50\n",
      "6/6 [==============================] - 8s 1s/step - loss: 0.0162 - accuracy: 1.0000 - val_loss: 0.2526 - val_accuracy: 0.9211\n",
      "Epoch 45/50\n",
      "6/6 [==============================] - 8s 1s/step - loss: 0.0079 - accuracy: 1.0000 - val_loss: 0.1585 - val_accuracy: 0.9474\n",
      "Epoch 46/50\n",
      "6/6 [==============================] - 8s 1s/step - loss: 0.0103 - accuracy: 1.0000 - val_loss: 0.2041 - val_accuracy: 0.9474\n",
      "Epoch 47/50\n",
      "6/6 [==============================] - 8s 1s/step - loss: 0.1055 - accuracy: 0.9444 - val_loss: 0.3456 - val_accuracy: 0.9211\n",
      "Epoch 48/50\n",
      "6/6 [==============================] - 9s 1s/step - loss: 0.0327 - accuracy: 1.0000 - val_loss: 0.4836 - val_accuracy: 0.9211\n",
      "Epoch 49/50\n",
      "6/6 [==============================] - 9s 1s/step - loss: 0.2696 - accuracy: 0.9444 - val_loss: 0.1691 - val_accuracy: 0.9474\n",
      "Epoch 50/50\n",
      "6/6 [==============================] - 8s 1s/step - loss: 0.0223 - accuracy: 1.0000 - val_loss: 0.1744 - val_accuracy: 0.9737\n"
     ]
    }
   ],
   "source": [
    "model_fit = model.fit(train_dataset,\n",
    "                      steps_per_epoch = 6,\n",
    "                     epochs=50,\n",
    "                     validation_data= validation_dataset)"
   ]
  },
  {
   "cell_type": "code",
   "execution_count": null,
   "metadata": {},
   "outputs": [],
   "source": []
  }
 ],
 "metadata": {
  "kernelspec": {
   "display_name": "Python 3",
   "language": "python",
   "name": "python3"
  },
  "language_info": {
   "codemirror_mode": {
    "name": "ipython",
    "version": 3
   },
   "file_extension": ".py",
   "mimetype": "text/x-python",
   "name": "python",
   "nbconvert_exporter": "python",
   "pygments_lexer": "ipython3",
   "version": "3.8.5"
  }
 },
 "nbformat": 4,
 "nbformat_minor": 4
}
